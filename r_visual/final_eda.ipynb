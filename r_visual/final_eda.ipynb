{
  "nbformat": 4,
  "nbformat_minor": 0,
  "metadata": {
    "kernelspec": {
      "display_name": "R",
      "language": "R",
      "name": "ir"
    },
    "language_info": {
      "codemirror_mode": "r",
      "file_extension": ".r",
      "mimetype": "text/x-r-source",
      "name": "R",
      "pygments_lexer": "r",
      "version": "3.6.3"
    },
    "colab": {
      "name": "final_eda.ipynb",
      "provenance": [],
      "include_colab_link": true
    }
  },
  "cells": [
    {
      "cell_type": "markdown",
      "metadata": {
        "id": "view-in-github",
        "colab_type": "text"
      },
      "source": [
        "<a href=\"https://colab.research.google.com/github/kwanglo/personal_projects/blob/master/r_visual/final_eda.ipynb\" target=\"_parent\"><img src=\"https://colab.research.google.com/assets/colab-badge.svg\" alt=\"Open In Colab\"/></a>"
      ]
    },
    {
      "cell_type": "code",
      "metadata": {
        "id": "PeA9_Cj64i1E",
        "colab_type": "code",
        "colab": {},
        "outputId": "c7bd0af8-7b27-431a-f5b8-6837e2cdb2f0"
      },
      "source": [
        "library(dplyr)    # alternatively, this also loads %>%\n",
        "library(ggplot2) \n",
        "library(ggcorrplot) \n",
        "library(lme4)\n",
        "library(lmerTest)\n",
        "library(ez)\n",
        "library(\"readxl\")\n",
        "library(ggpubr)"
      ],
      "execution_count": null,
      "outputs": [
        {
          "output_type": "stream",
          "text": [
            "\n",
            "Attaching package: 'dplyr'\n",
            "\n",
            "The following objects are masked from 'package:stats':\n",
            "\n",
            "    filter, lag\n",
            "\n",
            "The following objects are masked from 'package:base':\n",
            "\n",
            "    intersect, setdiff, setequal, union\n",
            "\n",
            "Loading required package: Matrix\n",
            "\n",
            "Attaching package: 'lmerTest'\n",
            "\n",
            "The following object is masked from 'package:lme4':\n",
            "\n",
            "    lmer\n",
            "\n",
            "The following object is masked from 'package:stats':\n",
            "\n",
            "    step\n",
            "\n",
            "Registered S3 methods overwritten by 'car':\n",
            "  method                          from\n",
            "  influence.merMod                lme4\n",
            "  cooks.distance.influence.merMod lme4\n",
            "  dfbeta.influence.merMod         lme4\n",
            "  dfbetas.influence.merMod        lme4\n",
            "Loading required package: magrittr\n"
          ],
          "name": "stderr"
        }
      ]
    },
    {
      "cell_type": "code",
      "metadata": {
        "collapsed": true,
        "id": "TD4_hlKD4i1I",
        "colab_type": "code",
        "colab": {},
        "outputId": "9931aa48-8ea4-40f1-893f-cfced95159b6"
      },
      "source": [
        "library(gridExtra)\n",
        "library(grid)\n",
        "library(lattice)"
      ],
      "execution_count": null,
      "outputs": [
        {
          "output_type": "stream",
          "text": [
            "\n",
            "Attaching package: 'gridExtra'\n",
            "\n",
            "The following object is masked from 'package:dplyr':\n",
            "\n",
            "    combine\n",
            "\n"
          ],
          "name": "stderr"
        }
      ]
    },
    {
      "cell_type": "code",
      "metadata": {
        "id": "49YsxkiH4i1L",
        "colab_type": "code",
        "colab": {}
      },
      "source": [
        "demographics = read.csv(\"EDA_Skeleton/DATA/DEMO_I_preprocessed.csv\")\n",
        "bodymeasure = read.csv(\"EDA_Skeleton/DATA/BMX_I_preprocessed.csv\")\n",
        "dietary = read.csv(\"EDA_Skeleton/DATA/DBQ_I_preprocessed.csv\")\n",
        "physical = read.csv(\"EDA_Skeleton/DATA/PAQ_I_preprocessed.csv\")\n",
        "depression = read.csv(\"EDA_Skeleton/DATA/DPQ_I_preprocessed.csv\")\n",
        "sleep = read.csv(\"EDA_Skeleton/DATA/SLQ_I_preprocessed.csv\")\n",
        "whistory = read.csv(\"EDA_Skeleton/DATA/WHQ_I_preprocessed.csv\")"
      ],
      "execution_count": null,
      "outputs": []
    },
    {
      "cell_type": "code",
      "metadata": {
        "id": "8MBs74Jy4i1N",
        "colab_type": "code",
        "colab": {},
        "outputId": "10a0aff1-384d-4aff-b283-c7261fd0382f"
      },
      "source": [
        "head(demographics)"
      ],
      "execution_count": null,
      "outputs": [
        {
          "output_type": "display_data",
          "data": {
            "text/html": [
              "<table>\n",
              "<caption>A data.frame: 6 × 5</caption>\n",
              "<thead>\n",
              "\t<tr><th></th><th scope=col>RIAGENDR</th><th scope=col>RIDEXPRG</th><th scope=col>RIDAGEYR</th><th scope=col>SEQN</th><th scope=col>Age_cate</th></tr>\n",
              "\t<tr><th></th><th scope=col>&lt;int&gt;</th><th scope=col>&lt;int&gt;</th><th scope=col>&lt;int&gt;</th><th scope=col>&lt;int&gt;</th><th scope=col>&lt;int&gt;</th></tr>\n",
              "</thead>\n",
              "<tbody>\n",
              "\t<tr><th scope=row>1</th><td>1</td><td>NA</td><td>62</td><td>83732</td><td>6</td></tr>\n",
              "\t<tr><th scope=row>2</th><td>1</td><td>NA</td><td>53</td><td>83733</td><td>5</td></tr>\n",
              "\t<tr><th scope=row>3</th><td>1</td><td>NA</td><td>78</td><td>83734</td><td>7</td></tr>\n",
              "\t<tr><th scope=row>4</th><td>2</td><td>NA</td><td>56</td><td>83735</td><td>5</td></tr>\n",
              "\t<tr><th scope=row>5</th><td>2</td><td> 1</td><td>42</td><td>83736</td><td>4</td></tr>\n",
              "\t<tr><th scope=row>6</th><td>2</td><td>NA</td><td>72</td><td>83737</td><td>7</td></tr>\n",
              "</tbody>\n",
              "</table>\n"
            ],
            "text/latex": "A data.frame: 6 × 5\n\\begin{tabular}{r|lllll}\n  & RIAGENDR & RIDEXPRG & RIDAGEYR & SEQN & Age\\_cate\\\\\n  & <int> & <int> & <int> & <int> & <int>\\\\\n\\hline\n\t1 & 1 & NA & 62 & 83732 & 6\\\\\n\t2 & 1 & NA & 53 & 83733 & 5\\\\\n\t3 & 1 & NA & 78 & 83734 & 7\\\\\n\t4 & 2 & NA & 56 & 83735 & 5\\\\\n\t5 & 2 &  1 & 42 & 83736 & 4\\\\\n\t6 & 2 & NA & 72 & 83737 & 7\\\\\n\\end{tabular}\n",
            "text/markdown": "\nA data.frame: 6 × 5\n\n| <!--/--> | RIAGENDR &lt;int&gt; | RIDEXPRG &lt;int&gt; | RIDAGEYR &lt;int&gt; | SEQN &lt;int&gt; | Age_cate &lt;int&gt; |\n|---|---|---|---|---|---|\n| 1 | 1 | NA | 62 | 83732 | 6 |\n| 2 | 1 | NA | 53 | 83733 | 5 |\n| 3 | 1 | NA | 78 | 83734 | 7 |\n| 4 | 2 | NA | 56 | 83735 | 5 |\n| 5 | 2 |  1 | 42 | 83736 | 4 |\n| 6 | 2 | NA | 72 | 83737 | 7 |\n\n",
            "text/plain": [
              "  RIAGENDR RIDEXPRG RIDAGEYR SEQN  Age_cate\n",
              "1 1        NA       62       83732 6       \n",
              "2 1        NA       53       83733 5       \n",
              "3 1        NA       78       83734 7       \n",
              "4 2        NA       56       83735 5       \n",
              "5 2         1       42       83736 4       \n",
              "6 2        NA       72       83737 7       "
            ]
          },
          "metadata": {
            "tags": []
          }
        }
      ]
    },
    {
      "cell_type": "code",
      "metadata": {
        "id": "PeW6_inU4i1Q",
        "colab_type": "code",
        "colab": {}
      },
      "source": [
        "demo_bmx <- merge(demographics, bodymeasure, by=\"SEQN\")\n",
        "demo_dbq <- merge(demographics, dietary, by=\"SEQN\")\n",
        "demo_paq <- merge(demographics, physical, by=\"SEQN\")\n",
        "demo_dpq <- merge(demographics, depression, by=\"SEQN\")\n",
        "demo_slq <- merge(demographics, sleep, by=\"SEQN\")\n",
        "demo_whq <- merge(demographics, whistory, by=\"SEQN\")"
      ],
      "execution_count": null,
      "outputs": []
    },
    {
      "cell_type": "code",
      "metadata": {
        "id": "FYI2lewk4i1T",
        "colab_type": "code",
        "colab": {},
        "outputId": "d4d3e901-3e85-4afa-eacb-a27c217d9eee"
      },
      "source": [
        "head(demo_bmx)"
      ],
      "execution_count": null,
      "outputs": [
        {
          "output_type": "display_data",
          "data": {
            "text/html": [
              "<table>\n",
              "<caption>A data.frame: 6 × 13</caption>\n",
              "<thead>\n",
              "\t<tr><th></th><th scope=col>SEQN</th><th scope=col>RIAGENDR</th><th scope=col>RIDEXPRG</th><th scope=col>RIDAGEYR</th><th scope=col>Age_cate</th><th scope=col>BMIHT</th><th scope=col>BMXHT</th><th scope=col>BMIWAIST</th><th scope=col>BMXWAIST</th><th scope=col>BMXBMI</th><th scope=col>BMIWT</th><th scope=col>BMXWT</th><th scope=col>BMI_cate</th></tr>\n",
              "\t<tr><th></th><th scope=col>&lt;int&gt;</th><th scope=col>&lt;int&gt;</th><th scope=col>&lt;int&gt;</th><th scope=col>&lt;int&gt;</th><th scope=col>&lt;int&gt;</th><th scope=col>&lt;lgl&gt;</th><th scope=col>&lt;dbl&gt;</th><th scope=col>&lt;lgl&gt;</th><th scope=col>&lt;dbl&gt;</th><th scope=col>&lt;dbl&gt;</th><th scope=col>&lt;int&gt;</th><th scope=col>&lt;dbl&gt;</th><th scope=col>&lt;int&gt;</th></tr>\n",
              "</thead>\n",
              "<tbody>\n",
              "\t<tr><th scope=row>1</th><td>83732</td><td>1</td><td>NA</td><td>62</td><td>6</td><td>NA</td><td>184.5</td><td>NA</td><td>101.1</td><td>27.8</td><td>NA</td><td> 94.8</td><td>1</td></tr>\n",
              "\t<tr><th scope=row>2</th><td>83733</td><td>1</td><td>NA</td><td>53</td><td>5</td><td>NA</td><td>171.4</td><td>NA</td><td>107.9</td><td>30.8</td><td>NA</td><td> 90.4</td><td>2</td></tr>\n",
              "\t<tr><th scope=row>3</th><td>83734</td><td>1</td><td>NA</td><td>78</td><td>7</td><td>NA</td><td>170.1</td><td>NA</td><td>116.5</td><td>28.8</td><td>NA</td><td> 83.4</td><td>1</td></tr>\n",
              "\t<tr><th scope=row>4</th><td>83735</td><td>2</td><td>NA</td><td>56</td><td>5</td><td>NA</td><td>160.9</td><td>NA</td><td>110.1</td><td>42.4</td><td>NA</td><td>109.8</td><td>2</td></tr>\n",
              "\t<tr><th scope=row>5</th><td>83736</td><td>2</td><td> 1</td><td>42</td><td>4</td><td>NA</td><td>164.9</td><td>NA</td><td> 80.4</td><td>20.3</td><td>NA</td><td> 55.2</td><td>0</td></tr>\n",
              "\t<tr><th scope=row>6</th><td>83737</td><td>2</td><td>NA</td><td>72</td><td>7</td><td>NA</td><td>150.0</td><td>NA</td><td> 92.9</td><td>28.6</td><td>NA</td><td> 64.4</td><td>1</td></tr>\n",
              "</tbody>\n",
              "</table>\n"
            ],
            "text/latex": "A data.frame: 6 × 13\n\\begin{tabular}{r|lllllllllllll}\n  & SEQN & RIAGENDR & RIDEXPRG & RIDAGEYR & Age\\_cate & BMIHT & BMXHT & BMIWAIST & BMXWAIST & BMXBMI & BMIWT & BMXWT & BMI\\_cate\\\\\n  & <int> & <int> & <int> & <int> & <int> & <lgl> & <dbl> & <lgl> & <dbl> & <dbl> & <int> & <dbl> & <int>\\\\\n\\hline\n\t1 & 83732 & 1 & NA & 62 & 6 & NA & 184.5 & NA & 101.1 & 27.8 & NA &  94.8 & 1\\\\\n\t2 & 83733 & 1 & NA & 53 & 5 & NA & 171.4 & NA & 107.9 & 30.8 & NA &  90.4 & 2\\\\\n\t3 & 83734 & 1 & NA & 78 & 7 & NA & 170.1 & NA & 116.5 & 28.8 & NA &  83.4 & 1\\\\\n\t4 & 83735 & 2 & NA & 56 & 5 & NA & 160.9 & NA & 110.1 & 42.4 & NA & 109.8 & 2\\\\\n\t5 & 83736 & 2 &  1 & 42 & 4 & NA & 164.9 & NA &  80.4 & 20.3 & NA &  55.2 & 0\\\\\n\t6 & 83737 & 2 & NA & 72 & 7 & NA & 150.0 & NA &  92.9 & 28.6 & NA &  64.4 & 1\\\\\n\\end{tabular}\n",
            "text/markdown": "\nA data.frame: 6 × 13\n\n| <!--/--> | SEQN &lt;int&gt; | RIAGENDR &lt;int&gt; | RIDEXPRG &lt;int&gt; | RIDAGEYR &lt;int&gt; | Age_cate &lt;int&gt; | BMIHT &lt;lgl&gt; | BMXHT &lt;dbl&gt; | BMIWAIST &lt;lgl&gt; | BMXWAIST &lt;dbl&gt; | BMXBMI &lt;dbl&gt; | BMIWT &lt;int&gt; | BMXWT &lt;dbl&gt; | BMI_cate &lt;int&gt; |\n|---|---|---|---|---|---|---|---|---|---|---|---|---|---|\n| 1 | 83732 | 1 | NA | 62 | 6 | NA | 184.5 | NA | 101.1 | 27.8 | NA |  94.8 | 1 |\n| 2 | 83733 | 1 | NA | 53 | 5 | NA | 171.4 | NA | 107.9 | 30.8 | NA |  90.4 | 2 |\n| 3 | 83734 | 1 | NA | 78 | 7 | NA | 170.1 | NA | 116.5 | 28.8 | NA |  83.4 | 1 |\n| 4 | 83735 | 2 | NA | 56 | 5 | NA | 160.9 | NA | 110.1 | 42.4 | NA | 109.8 | 2 |\n| 5 | 83736 | 2 |  1 | 42 | 4 | NA | 164.9 | NA |  80.4 | 20.3 | NA |  55.2 | 0 |\n| 6 | 83737 | 2 | NA | 72 | 7 | NA | 150.0 | NA |  92.9 | 28.6 | NA |  64.4 | 1 |\n\n",
            "text/plain": [
              "  SEQN  RIAGENDR RIDEXPRG RIDAGEYR Age_cate BMIHT BMXHT BMIWAIST BMXWAIST\n",
              "1 83732 1        NA       62       6        NA    184.5 NA       101.1   \n",
              "2 83733 1        NA       53       5        NA    171.4 NA       107.9   \n",
              "3 83734 1        NA       78       7        NA    170.1 NA       116.5   \n",
              "4 83735 2        NA       56       5        NA    160.9 NA       110.1   \n",
              "5 83736 2         1       42       4        NA    164.9 NA        80.4   \n",
              "6 83737 2        NA       72       7        NA    150.0 NA        92.9   \n",
              "  BMXBMI BMIWT BMXWT BMI_cate\n",
              "1 27.8   NA     94.8 1       \n",
              "2 30.8   NA     90.4 2       \n",
              "3 28.8   NA     83.4 1       \n",
              "4 42.4   NA    109.8 2       \n",
              "5 20.3   NA     55.2 0       \n",
              "6 28.6   NA     64.4 1       "
            ]
          },
          "metadata": {
            "tags": []
          }
        }
      ]
    },
    {
      "cell_type": "code",
      "metadata": {
        "id": "lLAAIb344i1V",
        "colab_type": "code",
        "colab": {},
        "outputId": "2f555fea-a5cf-415b-f3f2-d59ed24a30cf"
      },
      "source": [
        "names <- c('RIAGENDR' ,'Age_cate', 'BMI_cate')\n",
        "demo_bmx[,names] <- lapply(demo_bmx[,names] , factor)\n",
        "str(demo_bmx)"
      ],
      "execution_count": null,
      "outputs": [
        {
          "output_type": "stream",
          "text": [
            "'data.frame':\t8985 obs. of  13 variables:\n",
            " $ SEQN    : int  83732 83733 83734 83735 83736 83737 83738 83739 83740 83741 ...\n",
            " $ RIAGENDR: Factor w/ 2 levels \"1\",\"2\": 1 1 1 2 2 2 2 1 1 1 ...\n",
            " $ RIDEXPRG: int  NA NA NA NA 1 NA NA NA NA NA ...\n",
            " $ RIDAGEYR: int  62 53 78 56 42 72 11 4 1 22 ...\n",
            " $ Age_cate: Factor w/ 9 levels \"0\",\"1\",\"2\",\"3\",..: 7 6 8 6 5 8 2 1 1 3 ...\n",
            " $ BMIHT   : logi  NA NA NA NA NA NA ...\n",
            " $ BMXHT   : num  184 171 170 161 165 ...\n",
            " $ BMIWAIST: logi  NA NA NA NA NA NA ...\n",
            " $ BMXWAIST: num  101.1 107.9 116.5 110.1 80.4 ...\n",
            " $ BMXBMI  : num  27.8 30.8 28.8 42.4 20.3 28.6 18.1 15.7 NA 28 ...\n",
            " $ BMIWT   : int  NA NA NA NA NA NA NA NA NA NA ...\n",
            " $ BMXWT   : num  94.8 90.4 83.4 109.8 55.2 ...\n",
            " $ BMI_cate: Factor w/ 3 levels \"0\",\"1\",\"2\": 2 3 2 3 1 2 1 1 NA 2 ...\n"
          ],
          "name": "stdout"
        }
      ]
    },
    {
      "cell_type": "code",
      "metadata": {
        "collapsed": true,
        "id": "2OKnEny14i1Z",
        "colab_type": "code",
        "colab": {},
        "outputId": "bc78e630-4304-4ea4-f2fe-bac96a5a0bbc"
      },
      "source": [
        "# Height\n",
        "options(repr.plot.width=6, repr.plot.height=4)\n",
        "\n",
        "temp <-subset(demo_bmx, !is.na(BMXHT))\n",
        "p <- ggplot(temp, aes(x=BMXHT, fill=RIAGENDR)) + geom_density(alpha=0.4)\n",
        "p"
      ],
      "execution_count": null,
      "outputs": [
        {
          "output_type": "display_data",
          "data": {
            "image/png": "[encoded data removed]",
            "text/plain": [
              "plot without title"
            ]
          },
          "metadata": {
            "tags": []
          }
        }
      ]
    },
    {
      "cell_type": "code",
      "metadata": {
        "collapsed": true,
        "id": "djFyEbt74i1c",
        "colab_type": "code",
        "colab": {},
        "outputId": "c81f0904-933d-4cc4-df29-3566c5ba1099"
      },
      "source": [
        "# Weight\n",
        "options(repr.plot.width=6, repr.plot.height=4)\n",
        "\n",
        "temp <-subset(demo_bmx, !is.na(BMXWT))\n",
        "p <- ggplot(temp, aes(x=BMXWT, fill=RIAGENDR)) + geom_density(alpha=0.4)\n",
        "p"
      ],
      "execution_count": null,
      "outputs": [
        {
          "output_type": "display_data",
          "data": {
            "image/png": "[encoded data removed]",
            "text/plain": [
              "plot without title"
            ]
          },
          "metadata": {
            "tags": []
          }
        }
      ]
    },
    {
      "cell_type": "code",
      "metadata": {
        "id": "7WhnkQLv4i1j",
        "colab_type": "code",
        "colab": {},
        "outputId": "4c84bbb7-57d2-4467-8960-5c965e99dafa"
      },
      "source": [
        "# Weight\n",
        "options(repr.plot.width=6, repr.plot.height=4)\n",
        "\n",
        "temp <-subset(demo_bmx, !is.na(BMXBMI))\n",
        "p <- ggplot(temp, aes(x=BMXBMI, fill=RIAGENDR)) + geom_density(alpha=0.4)\n",
        "p"
      ],
      "execution_count": null,
      "outputs": [
        {
          "output_type": "display_data",
          "data": {
            "image/png": "[encoded data removed]",
            "text/plain": [
              "plot without title"
            ]
          },
          "metadata": {
            "tags": []
          }
        }
      ]
    },
    {
      "cell_type": "code",
      "metadata": {
        "collapsed": true,
        "id": "keTWJKIQ4i1n",
        "colab_type": "code",
        "colab": {},
        "outputId": "958f8a78-656c-4b90-9095-f6366fb2c0ab"
      },
      "source": [
        "# Weight\n",
        "options(repr.plot.width=4, repr.plot.height=10)\n",
        "\n",
        "temp <-subset(demo_bmx, !is.na(BMXBMI))\n",
        "\n",
        "p <- ggplot(temp, aes(x=BMXBMI, fill=RIAGENDR)) + \n",
        "geom_density(alpha=0.4) +\n",
        "facet_grid(Age_cate ~ .)\n",
        "p\n"
      ],
      "execution_count": null,
      "outputs": [
        {
          "output_type": "display_data",
          "data": {
            "image/png": "[encoded data removed]",
            "text/plain": [
              "plot without title"
            ]
          },
          "metadata": {
            "tags": []
          }
        }
      ]
    },
    {
      "cell_type": "code",
      "metadata": {
        "id": "86WJ0Kkj4i1p",
        "colab_type": "code",
        "colab": {}
      },
      "source": [
        "#Split violing plot\n",
        "GeomSplitViolin <- ggproto(\"GeomSplitViolin\", GeomViolin, \n",
        "                           draw_group = function(self, data, ..., draw_quantiles = NULL) {\n",
        "  data <- transform(data, xminv = x - violinwidth * (x - xmin), xmaxv = x + violinwidth * (xmax - x))\n",
        "  grp <- data[1, \"group\"]\n",
        "  newdata <- plyr::arrange(transform(data, x = if (grp %% 2 == 1) xminv else xmaxv), if (grp %% 2 == 1) y else -y)\n",
        "  newdata <- rbind(newdata[1, ], newdata, newdata[nrow(newdata), ], newdata[1, ])\n",
        "  newdata[c(1, nrow(newdata) - 1, nrow(newdata)), \"x\"] <- round(newdata[1, \"x\"])\n",
        "\n",
        "  if (length(draw_quantiles) > 0 & !scales::zero_range(range(data$y))) {\n",
        "    stopifnot(all(draw_quantiles >= 0), all(draw_quantiles <=\n",
        "      1))\n",
        "    quantiles <- ggplot2:::create_quantile_segment_frame(data, draw_quantiles)\n",
        "    aesthetics <- data[rep(1, nrow(quantiles)), setdiff(names(data), c(\"x\", \"y\")), drop = FALSE]\n",
        "    aesthetics$alpha <- rep(1, nrow(quantiles))\n",
        "    both <- cbind(quantiles, aesthetics)\n",
        "    quantile_grob <- GeomPath$draw_panel(both, ...)\n",
        "    ggplot2:::ggname(\"geom_split_violin\", grid::grobTree(GeomPolygon$draw_panel(newdata, ...), quantile_grob))\n",
        "  }\n",
        "  else {\n",
        "    ggplot2:::ggname(\"geom_split_violin\", GeomPolygon$draw_panel(newdata, ...))\n",
        "  }\n",
        "})\n",
        "\n",
        "geom_split_violin <- function(mapping = NULL, data = NULL, stat = \"ydensity\", position = \"identity\", ..., \n",
        "                              draw_quantiles = NULL, trim = TRUE, scale = \"area\", na.rm = FALSE, \n",
        "                              show.legend = NA, inherit.aes = TRUE) {\n",
        "  layer(data = data, mapping = mapping, stat = stat, geom = GeomSplitViolin, \n",
        "        position = position, show.legend = show.legend, inherit.aes = inherit.aes, \n",
        "        params = list(trim = trim, scale = scale, draw_quantiles = draw_quantiles, na.rm = na.rm, ...))\n",
        "}"
      ],
      "execution_count": null,
      "outputs": []
    },
    {
      "cell_type": "code",
      "metadata": {
        "id": "kFzvgSpE4i1s",
        "colab_type": "code",
        "colab": {},
        "outputId": "c255f58f-8625-4ee3-99b3-82fb6fae7c1e"
      },
      "source": [
        "#바이올린 플롯으로 성별에 따른 나이분포\n",
        "options(repr.plot.width=4, repr.plot.height=3)\n",
        "\n",
        "x_rand = c(rep(' ',length(demo_bmx$RIDAGEYR)))\n",
        "\n",
        "temp <-subset(demo_bmx, !is.na(RIDAGEYR))\n",
        "p <- ggplot(demo_bmx, aes(x = x_rand, y= RIDAGEYR, fill= RIAGENDR)) + \n",
        "geom_split_violin(trim=FALSE) +\n",
        "labs(x=\"Gender\", y=\"Age\")\n",
        "\n",
        "p + geom_boxplot(width=0.1, fill='#A4A4A4')"
      ],
      "execution_count": null,
      "outputs": [
        {
          "output_type": "display_data",
          "data": {
            "image/png": "[encoded data removed]",
            "text/plain": [
              "plot without title"
            ]
          },
          "metadata": {
            "tags": []
          }
        }
      ]
    },
    {
      "cell_type": "code",
      "metadata": {
        "scrolled": false,
        "id": "rktfrvyq4i1v",
        "colab_type": "code",
        "colab": {},
        "outputId": "ee9ef375-f625-4aa5-d408-cd36377daaf9"
      },
      "source": [
        "#바이올린 플롯으로 Age group에 따른 BMI 분포 확인\n",
        "options(repr.plot.width=4, repr.plot.height=20)\n",
        "\n",
        "x_rand = c(rep(' ',length(demo_bmx$BMXBMI)))\n",
        "\n",
        "temp <-subset(demo_bmx, !is.na(BMXBMI))\n",
        "p <- ggplot(demo_bmx, aes(x = x_rand, y= BMXBMI, fill= RIAGENDR)) + \n",
        "geom_split_violin(trim=FALSE) +\n",
        "labs(x=\"Gender\", y=\"BMI\") +\n",
        "facet_grid(Age_cate ~ .)\n",
        "\n",
        "p + geom_boxplot(width=0.1, fill='#A4A4A4')"
      ],
      "execution_count": null,
      "outputs": [
        {
          "output_type": "stream",
          "text": [
            "Warning message:\n",
            "\"Removed 740 rows containing non-finite values (stat_ydensity).\"Warning message:\n",
            "\"Removed 740 rows containing non-finite values (stat_boxplot).\""
          ],
          "name": "stderr"
        },
        {
          "output_type": "display_data",
          "data": {
            "image/png": "[encoded data removed]",
            "text/plain": [
              "plot without title"
            ]
          },
          "metadata": {
            "tags": []
          }
        }
      ]
    },
    {
      "cell_type": "code",
      "metadata": {
        "id": "TJ31Hkyt4i1x",
        "colab_type": "code",
        "colab": {},
        "outputId": "9bb0f953-c54b-40af-83b0-0f10fa5edf61"
      },
      "source": [
        "#Age 비중 / 성별도 같이\n",
        "demo_male = subset(demo_bmx, demo_bmx['RIAGENDR'] == \"1\")\n",
        "demo_female = subset(demo_bmx, demo_bmx['RIAGENDR'] == \"2\")\n",
        "demo_bmx %>% group_by(Age_cate) %>% count()"
      ],
      "execution_count": null,
      "outputs": [
        {
          "output_type": "display_data",
          "data": {
            "text/html": [
              "<table>\n",
              "<caption>A grouped_df: 9 × 2</caption>\n",
              "<thead>\n",
              "\t<tr><th scope=col>Age_cate</th><th scope=col>n</th></tr>\n",
              "\t<tr><th scope=col>&lt;fct&gt;</th><th scope=col>&lt;int&gt;</th></tr>\n",
              "</thead>\n",
              "<tbody>\n",
              "\t<tr><td>0</td><td>2244</td></tr>\n",
              "\t<tr><td>1</td><td>1626</td></tr>\n",
              "\t<tr><td>2</td><td> 894</td></tr>\n",
              "\t<tr><td>3</td><td> 890</td></tr>\n",
              "\t<tr><td>4</td><td> 859</td></tr>\n",
              "\t<tr><td>5</td><td> 851</td></tr>\n",
              "\t<tr><td>6</td><td> 863</td></tr>\n",
              "\t<tr><td>7</td><td> 488</td></tr>\n",
              "\t<tr><td>8</td><td> 270</td></tr>\n",
              "</tbody>\n",
              "</table>\n"
            ],
            "text/latex": "A grouped\\_df: 9 × 2\n\\begin{tabular}{ll}\n Age\\_cate & n\\\\\n <fct> & <int>\\\\\n\\hline\n\t 0 & 2244\\\\\n\t 1 & 1626\\\\\n\t 2 &  894\\\\\n\t 3 &  890\\\\\n\t 4 &  859\\\\\n\t 5 &  851\\\\\n\t 6 &  863\\\\\n\t 7 &  488\\\\\n\t 8 &  270\\\\\n\\end{tabular}\n",
            "text/markdown": "\nA grouped_df: 9 × 2\n\n| Age_cate &lt;fct&gt; | n &lt;int&gt; |\n|---|---|\n| 0 | 2244 |\n| 1 | 1626 |\n| 2 |  894 |\n| 3 |  890 |\n| 4 |  859 |\n| 5 |  851 |\n| 6 |  863 |\n| 7 |  488 |\n| 8 |  270 |\n\n",
            "text/plain": [
              "  Age_cate n   \n",
              "1 0        2244\n",
              "2 1        1626\n",
              "3 2         894\n",
              "4 3         890\n",
              "5 4         859\n",
              "6 5         851\n",
              "7 6         863\n",
              "8 7         488\n",
              "9 8         270"
            ]
          },
          "metadata": {
            "tags": []
          }
        }
      ]
    },
    {
      "cell_type": "code",
      "metadata": {
        "collapsed": true,
        "id": "Iita6AP74i10",
        "colab_type": "code",
        "colab": {},
        "outputId": "aeab4c17-6a97-4768-b419-02127d074b6d"
      },
      "source": [
        "#Age, 성별에 따른 BMI-cate 비율\n",
        "temp = subset(demo_bmx, !is.na(BMI_cate))\n",
        "demo_male = subset(temp, temp['RIAGENDR'] == \"1\")\n",
        "demo_female = subset(temp, temp['RIAGENDR'] == \"2\")\n",
        "\n",
        "temp2 = demo_female\n",
        "\n",
        "demo_age_0 = subset(temp2, temp2['Age_cate'] == \"0\")\n",
        "demo_age_1 = subset(temp2, temp2['Age_cate'] == \"1\")\n",
        "demo_age_2 = subset(temp2, temp2['Age_cate'] == \"2\")\n",
        "demo_age_3 = subset(temp2, temp2['Age_cate'] == \"3\")\n",
        "demo_age_4 = subset(temp2, temp2['Age_cate'] == \"4\")\n",
        "demo_age_5 = subset(temp2, temp2['Age_cate'] == \"5\")\n",
        "demo_age_6 = subset(temp2, temp2['Age_cate'] == \"6\")\n",
        "demo_age_7 = subset(temp2, temp2['Age_cate'] == \"7\")\n",
        "demo_age_8 = subset(temp2, temp2['Age_cate'] == \"8\")\n",
        "\n",
        "demo_age_0 %>% group_by(BMI_cate) %>% count()\n",
        "demo_age_1 %>% group_by(BMI_cate) %>% count()\n",
        "demo_age_2 %>% group_by(BMI_cate) %>% count()\n",
        "demo_age_3 %>% group_by(BMI_cate) %>% count()\n",
        "demo_age_4 %>% group_by(BMI_cate) %>% count()\n",
        "demo_age_5 %>% group_by(BMI_cate) %>% count()\n",
        "demo_age_6 %>% group_by(BMI_cate) %>% count()\n",
        "demo_age_7 %>% group_by(BMI_cate) %>% count()\n",
        "demo_age_8 %>% group_by(BMI_cate) %>% count()"
      ],
      "execution_count": null,
      "outputs": [
        {
          "output_type": "display_data",
          "data": {
            "text/html": [
              "<table>\n",
              "<caption>A grouped_df: 3 × 2</caption>\n",
              "<thead>\n",
              "\t<tr><th scope=col>BMI_cate</th><th scope=col>n</th></tr>\n",
              "\t<tr><th scope=col>&lt;fct&gt;</th><th scope=col>&lt;int&gt;</th></tr>\n",
              "</thead>\n",
              "<tbody>\n",
              "\t<tr><td>0</td><td>752</td></tr>\n",
              "\t<tr><td>1</td><td> 21</td></tr>\n",
              "\t<tr><td>2</td><td>  6</td></tr>\n",
              "</tbody>\n",
              "</table>\n"
            ],
            "text/latex": "A grouped\\_df: 3 × 2\n\\begin{tabular}{ll}\n BMI\\_cate & n\\\\\n <fct> & <int>\\\\\n\\hline\n\t 0 & 752\\\\\n\t 1 &  21\\\\\n\t 2 &   6\\\\\n\\end{tabular}\n",
            "text/markdown": "\nA grouped_df: 3 × 2\n\n| BMI_cate &lt;fct&gt; | n &lt;int&gt; |\n|---|---|\n| 0 | 752 |\n| 1 |  21 |\n| 2 |   6 |\n\n",
            "text/plain": [
              "  BMI_cate n  \n",
              "1 0        752\n",
              "2 1         21\n",
              "3 2          6"
            ]
          },
          "metadata": {
            "tags": []
          }
        },
        {
          "output_type": "display_data",
          "data": {
            "text/html": [
              "<table>\n",
              "<caption>A grouped_df: 3 × 2</caption>\n",
              "<thead>\n",
              "\t<tr><th scope=col>BMI_cate</th><th scope=col>n</th></tr>\n",
              "\t<tr><th scope=col>&lt;fct&gt;</th><th scope=col>&lt;int&gt;</th></tr>\n",
              "</thead>\n",
              "<tbody>\n",
              "\t<tr><td>0</td><td>509</td></tr>\n",
              "\t<tr><td>1</td><td>170</td></tr>\n",
              "\t<tr><td>2</td><td>101</td></tr>\n",
              "</tbody>\n",
              "</table>\n"
            ],
            "text/latex": "A grouped\\_df: 3 × 2\n\\begin{tabular}{ll}\n BMI\\_cate & n\\\\\n <fct> & <int>\\\\\n\\hline\n\t 0 & 509\\\\\n\t 1 & 170\\\\\n\t 2 & 101\\\\\n\\end{tabular}\n",
            "text/markdown": "\nA grouped_df: 3 × 2\n\n| BMI_cate &lt;fct&gt; | n &lt;int&gt; |\n|---|---|\n| 0 | 509 |\n| 1 | 170 |\n| 2 | 101 |\n\n",
            "text/plain": [
              "  BMI_cate n  \n",
              "1 0        509\n",
              "2 1        170\n",
              "3 2        101"
            ]
          },
          "metadata": {
            "tags": []
          }
        },
        {
          "output_type": "display_data",
          "data": {
            "text/html": [
              "<table>\n",
              "<caption>A grouped_df: 3 × 2</caption>\n",
              "<thead>\n",
              "\t<tr><th scope=col>BMI_cate</th><th scope=col>n</th></tr>\n",
              "\t<tr><th scope=col>&lt;fct&gt;</th><th scope=col>&lt;int&gt;</th></tr>\n",
              "</thead>\n",
              "<tbody>\n",
              "\t<tr><td>0</td><td>194</td></tr>\n",
              "\t<tr><td>1</td><td>106</td></tr>\n",
              "\t<tr><td>2</td><td>171</td></tr>\n",
              "</tbody>\n",
              "</table>\n"
            ],
            "text/latex": "A grouped\\_df: 3 × 2\n\\begin{tabular}{ll}\n BMI\\_cate & n\\\\\n <fct> & <int>\\\\\n\\hline\n\t 0 & 194\\\\\n\t 1 & 106\\\\\n\t 2 & 171\\\\\n\\end{tabular}\n",
            "text/markdown": "\nA grouped_df: 3 × 2\n\n| BMI_cate &lt;fct&gt; | n &lt;int&gt; |\n|---|---|\n| 0 | 194 |\n| 1 | 106 |\n| 2 | 171 |\n\n",
            "text/plain": [
              "  BMI_cate n  \n",
              "1 0        194\n",
              "2 1        106\n",
              "3 2        171"
            ]
          },
          "metadata": {
            "tags": []
          }
        },
        {
          "output_type": "display_data",
          "data": {
            "text/html": [
              "<table>\n",
              "<caption>A grouped_df: 3 × 2</caption>\n",
              "<thead>\n",
              "\t<tr><th scope=col>BMI_cate</th><th scope=col>n</th></tr>\n",
              "\t<tr><th scope=col>&lt;fct&gt;</th><th scope=col>&lt;int&gt;</th></tr>\n",
              "</thead>\n",
              "<tbody>\n",
              "\t<tr><td>0</td><td>129</td></tr>\n",
              "\t<tr><td>1</td><td>131</td></tr>\n",
              "\t<tr><td>2</td><td>187</td></tr>\n",
              "</tbody>\n",
              "</table>\n"
            ],
            "text/latex": "A grouped\\_df: 3 × 2\n\\begin{tabular}{ll}\n BMI\\_cate & n\\\\\n <fct> & <int>\\\\\n\\hline\n\t 0 & 129\\\\\n\t 1 & 131\\\\\n\t 2 & 187\\\\\n\\end{tabular}\n",
            "text/markdown": "\nA grouped_df: 3 × 2\n\n| BMI_cate &lt;fct&gt; | n &lt;int&gt; |\n|---|---|\n| 0 | 129 |\n| 1 | 131 |\n| 2 | 187 |\n\n",
            "text/plain": [
              "  BMI_cate n  \n",
              "1 0        129\n",
              "2 1        131\n",
              "3 2        187"
            ]
          },
          "metadata": {
            "tags": []
          }
        },
        {
          "output_type": "display_data",
          "data": {
            "text/html": [
              "<table>\n",
              "<caption>A grouped_df: 3 × 2</caption>\n",
              "<thead>\n",
              "\t<tr><th scope=col>BMI_cate</th><th scope=col>n</th></tr>\n",
              "\t<tr><th scope=col>&lt;fct&gt;</th><th scope=col>&lt;int&gt;</th></tr>\n",
              "</thead>\n",
              "<tbody>\n",
              "\t<tr><td>0</td><td>130</td></tr>\n",
              "\t<tr><td>1</td><td>108</td></tr>\n",
              "\t<tr><td>2</td><td>233</td></tr>\n",
              "</tbody>\n",
              "</table>\n"
            ],
            "text/latex": "A grouped\\_df: 3 × 2\n\\begin{tabular}{ll}\n BMI\\_cate & n\\\\\n <fct> & <int>\\\\\n\\hline\n\t 0 & 130\\\\\n\t 1 & 108\\\\\n\t 2 & 233\\\\\n\\end{tabular}\n",
            "text/markdown": "\nA grouped_df: 3 × 2\n\n| BMI_cate &lt;fct&gt; | n &lt;int&gt; |\n|---|---|\n| 0 | 130 |\n| 1 | 108 |\n| 2 | 233 |\n\n",
            "text/plain": [
              "  BMI_cate n  \n",
              "1 0        130\n",
              "2 1        108\n",
              "3 2        233"
            ]
          },
          "metadata": {
            "tags": []
          }
        },
        {
          "output_type": "display_data",
          "data": {
            "text/html": [
              "<table>\n",
              "<caption>A grouped_df: 3 × 2</caption>\n",
              "<thead>\n",
              "\t<tr><th scope=col>BMI_cate</th><th scope=col>n</th></tr>\n",
              "\t<tr><th scope=col>&lt;fct&gt;</th><th scope=col>&lt;int&gt;</th></tr>\n",
              "</thead>\n",
              "<tbody>\n",
              "\t<tr><td>0</td><td>106</td></tr>\n",
              "\t<tr><td>1</td><td>109</td></tr>\n",
              "\t<tr><td>2</td><td>218</td></tr>\n",
              "</tbody>\n",
              "</table>\n"
            ],
            "text/latex": "A grouped\\_df: 3 × 2\n\\begin{tabular}{ll}\n BMI\\_cate & n\\\\\n <fct> & <int>\\\\\n\\hline\n\t 0 & 106\\\\\n\t 1 & 109\\\\\n\t 2 & 218\\\\\n\\end{tabular}\n",
            "text/markdown": "\nA grouped_df: 3 × 2\n\n| BMI_cate &lt;fct&gt; | n &lt;int&gt; |\n|---|---|\n| 0 | 106 |\n| 1 | 109 |\n| 2 | 218 |\n\n",
            "text/plain": [
              "  BMI_cate n  \n",
              "1 0        106\n",
              "2 1        109\n",
              "3 2        218"
            ]
          },
          "metadata": {
            "tags": []
          }
        },
        {
          "output_type": "display_data",
          "data": {
            "text/html": [
              "<table>\n",
              "<caption>A grouped_df: 3 × 2</caption>\n",
              "<thead>\n",
              "\t<tr><th scope=col>BMI_cate</th><th scope=col>n</th></tr>\n",
              "\t<tr><th scope=col>&lt;fct&gt;</th><th scope=col>&lt;int&gt;</th></tr>\n",
              "</thead>\n",
              "<tbody>\n",
              "\t<tr><td>0</td><td> 94</td></tr>\n",
              "\t<tr><td>1</td><td>136</td></tr>\n",
              "\t<tr><td>2</td><td>207</td></tr>\n",
              "</tbody>\n",
              "</table>\n"
            ],
            "text/latex": "A grouped\\_df: 3 × 2\n\\begin{tabular}{ll}\n BMI\\_cate & n\\\\\n <fct> & <int>\\\\\n\\hline\n\t 0 &  94\\\\\n\t 1 & 136\\\\\n\t 2 & 207\\\\\n\\end{tabular}\n",
            "text/markdown": "\nA grouped_df: 3 × 2\n\n| BMI_cate &lt;fct&gt; | n &lt;int&gt; |\n|---|---|\n| 0 |  94 |\n| 1 | 136 |\n| 2 | 207 |\n\n",
            "text/plain": [
              "  BMI_cate n  \n",
              "1 0         94\n",
              "2 1        136\n",
              "3 2        207"
            ]
          },
          "metadata": {
            "tags": []
          }
        },
        {
          "output_type": "display_data",
          "data": {
            "text/html": [
              "<table>\n",
              "<caption>A grouped_df: 3 × 2</caption>\n",
              "<thead>\n",
              "\t<tr><th scope=col>BMI_cate</th><th scope=col>n</th></tr>\n",
              "\t<tr><th scope=col>&lt;fct&gt;</th><th scope=col>&lt;int&gt;</th></tr>\n",
              "</thead>\n",
              "<tbody>\n",
              "\t<tr><td>0</td><td> 46</td></tr>\n",
              "\t<tr><td>1</td><td> 72</td></tr>\n",
              "\t<tr><td>2</td><td>106</td></tr>\n",
              "</tbody>\n",
              "</table>\n"
            ],
            "text/latex": "A grouped\\_df: 3 × 2\n\\begin{tabular}{ll}\n BMI\\_cate & n\\\\\n <fct> & <int>\\\\\n\\hline\n\t 0 &  46\\\\\n\t 1 &  72\\\\\n\t 2 & 106\\\\\n\\end{tabular}\n",
            "text/markdown": "\nA grouped_df: 3 × 2\n\n| BMI_cate &lt;fct&gt; | n &lt;int&gt; |\n|---|---|\n| 0 |  46 |\n| 1 |  72 |\n| 2 | 106 |\n\n",
            "text/plain": [
              "  BMI_cate n  \n",
              "1 0         46\n",
              "2 1         72\n",
              "3 2        106"
            ]
          },
          "metadata": {
            "tags": []
          }
        },
        {
          "output_type": "display_data",
          "data": {
            "text/html": [
              "<table>\n",
              "<caption>A grouped_df: 3 × 2</caption>\n",
              "<thead>\n",
              "\t<tr><th scope=col>BMI_cate</th><th scope=col>n</th></tr>\n",
              "\t<tr><th scope=col>&lt;fct&gt;</th><th scope=col>&lt;int&gt;</th></tr>\n",
              "</thead>\n",
              "<tbody>\n",
              "\t<tr><td>0</td><td>45</td></tr>\n",
              "\t<tr><td>1</td><td>48</td></tr>\n",
              "\t<tr><td>2</td><td>39</td></tr>\n",
              "</tbody>\n",
              "</table>\n"
            ],
            "text/latex": "A grouped\\_df: 3 × 2\n\\begin{tabular}{ll}\n BMI\\_cate & n\\\\\n <fct> & <int>\\\\\n\\hline\n\t 0 & 45\\\\\n\t 1 & 48\\\\\n\t 2 & 39\\\\\n\\end{tabular}\n",
            "text/markdown": "\nA grouped_df: 3 × 2\n\n| BMI_cate &lt;fct&gt; | n &lt;int&gt; |\n|---|---|\n| 0 | 45 |\n| 1 | 48 |\n| 2 | 39 |\n\n",
            "text/plain": [
              "  BMI_cate n \n",
              "1 0        45\n",
              "2 1        48\n",
              "3 2        39"
            ]
          },
          "metadata": {
            "tags": []
          }
        }
      ]
    },
    {
      "cell_type": "code",
      "metadata": {
        "scrolled": true,
        "id": "dihRVaDa4i12",
        "colab_type": "code",
        "colab": {},
        "outputId": "7197b584-a6ed-4451-df09-6dd94df8a468"
      },
      "source": [
        "#DBQ - CBQ505 패스트푸드 먹은 비율\n",
        "str(demo_dbq)"
      ],
      "execution_count": null,
      "outputs": [
        {
          "output_type": "stream",
          "text": [
            "'data.frame':\t9971 obs. of  21 variables:\n",
            " $ SEQN    : int  83732 83733 83734 83735 83736 83737 83738 83739 83740 83741 ...\n",
            " $ RIAGENDR: Factor w/ 2 levels \"1\",\"2\": 1 1 1 2 2 2 2 1 1 1 ...\n",
            " $ RIDEXPRG: int  NA NA NA NA 1 NA NA NA NA NA ...\n",
            " $ RIDAGEYR: int  62 53 78 56 42 72 11 4 1 22 ...\n",
            " $ Age_cate: Factor w/ 9 levels \"0\",\"1\",\"2\",\"3\",..: 7 6 8 6 5 8 2 1 1 3 ...\n",
            " $ DBQ700  : num  0 -1 0.5 0.5 1 0 NA NA NA 0 ...\n",
            " $ DBD895  : num  0.333 0 1.333 1 1 ...\n",
            " $ DBD900  : num  0 NA 1.333 0.333 0.333 ...\n",
            " $ DBD905  : num  0.156 0 0 0.856 0.233 0 0 0.078 0 0 ...\n",
            " $ DBD910  : num  0 0 0 1.167 0.078 ...\n",
            " $ CBQ596  : int  2 2 2 2 1 2 NA NA NA 2 ...\n",
            " $ CBQ606  : int  NA NA NA NA 2 NA NA NA NA NA ...\n",
            " $ CBQ611  : int  NA NA NA NA 1 NA NA NA NA NA ...\n",
            " $ CBQ505  : Factor w/ 3 levels \"1\",\"2\",\"9\": 1 2 1 1 1 2 NA NA NA 1 ...\n",
            " $ CBQ535  : Factor w/ 3 levels \"1\",\"2\",\"9\": 2 NA 2 1 1 NA NA NA NA 2 ...\n",
            " $ CBQ540  : Factor w/ 2 levels \"1\",\"2\": NA NA NA 1 2 NA NA NA NA NA ...\n",
            " $ CBQ545  : num  -1 NA 1 -1 -0.333 NA NA NA NA -1 ...\n",
            " $ CBQ550  : int  1 1 1 1 1 1 NA NA NA 2 ...\n",
            " $ CBQ580  : int  2 2 2 2 1 2 NA NA NA NA ...\n",
            " $ CBQ585  : int  NA NA NA NA 2 NA NA NA NA NA ...\n",
            " $ CBQ590  : num  -0.333 1 1 -1 1 -1 NA NA NA NA ...\n"
          ],
          "name": "stdout"
        }
      ]
    },
    {
      "cell_type": "code",
      "metadata": {
        "id": "kWyaIAGA4i14",
        "colab_type": "code",
        "colab": {}
      },
      "source": [
        "names <- c('RIAGENDR' ,'Age_cate', 'CBQ505', 'CBQ535', 'CBQ540')\n",
        "demo_dbq[,names] <- lapply(demo_dbq[,names] , factor)"
      ],
      "execution_count": null,
      "outputs": []
    },
    {
      "cell_type": "code",
      "metadata": {
        "id": "macy4wxX4i17",
        "colab_type": "code",
        "colab": {},
        "outputId": "02212442-d23c-4c86-fb2b-3e32d6862c42"
      },
      "source": [
        "head(demo_age_3)"
      ],
      "execution_count": null,
      "outputs": [
        {
          "output_type": "display_data",
          "data": {
            "text/html": [
              "<table>\n",
              "<caption>A data.frame: 6 × 21</caption>\n",
              "<thead>\n",
              "\t<tr><th></th><th scope=col>SEQN</th><th scope=col>RIAGENDR</th><th scope=col>RIDEXPRG</th><th scope=col>RIDAGEYR</th><th scope=col>Age_cate</th><th scope=col>DBQ700</th><th scope=col>DBD895</th><th scope=col>DBD900</th><th scope=col>DBD905</th><th scope=col>DBD910</th><th scope=col>...</th><th scope=col>CBQ606</th><th scope=col>CBQ611</th><th scope=col>CBQ505</th><th scope=col>CBQ535</th><th scope=col>CBQ540</th><th scope=col>CBQ545</th><th scope=col>CBQ550</th><th scope=col>CBQ580</th><th scope=col>CBQ585</th><th scope=col>CBQ590</th></tr>\n",
              "\t<tr><th></th><th scope=col>&lt;int&gt;</th><th scope=col>&lt;fct&gt;</th><th scope=col>&lt;int&gt;</th><th scope=col>&lt;int&gt;</th><th scope=col>&lt;fct&gt;</th><th scope=col>&lt;dbl&gt;</th><th scope=col>&lt;dbl&gt;</th><th scope=col>&lt;dbl&gt;</th><th scope=col>&lt;dbl&gt;</th><th scope=col>&lt;dbl&gt;</th><th scope=col>...</th><th scope=col>&lt;int&gt;</th><th scope=col>&lt;int&gt;</th><th scope=col>&lt;fct&gt;</th><th scope=col>&lt;int&gt;</th><th scope=col>&lt;int&gt;</th><th scope=col>&lt;dbl&gt;</th><th scope=col>&lt;int&gt;</th><th scope=col>&lt;int&gt;</th><th scope=col>&lt;int&gt;</th><th scope=col>&lt;dbl&gt;</th></tr>\n",
              "</thead>\n",
              "<tbody>\n",
              "\t<tr><th scope=row>11</th><td>83742</td><td>2</td><td> 2</td><td>32</td><td>3</td><td>-1.0</td><td>0.000</td><td>   NA</td><td>0.000</td><td>0.078</td><td>...</td><td>NA</td><td>NA</td><td>1</td><td> 2</td><td>NA</td><td>-0.333</td><td>1</td><td> 2</td><td>NA</td><td>-0.333</td></tr>\n",
              "\t<tr><th scope=row>21</th><td>83752</td><td>2</td><td> 2</td><td>30</td><td>3</td><td> 0.0</td><td>1.333</td><td>0.000</td><td>0.000</td><td>0.000</td><td>...</td><td>NA</td><td>NA</td><td>1</td><td> 1</td><td> 2</td><td> 0.333</td><td>1</td><td> 2</td><td>NA</td><td>-0.333</td></tr>\n",
              "\t<tr><th scope=row>68</th><td>83799</td><td>2</td><td> 2</td><td>37</td><td>3</td><td> 0.0</td><td>0.667</td><td>0.667</td><td>0.000</td><td>0.000</td><td>...</td><td>NA</td><td>NA</td><td>1</td><td> 2</td><td>NA</td><td> 1.000</td><td>1</td><td> 2</td><td>NA</td><td> 1.000</td></tr>\n",
              "\t<tr><th scope=row>97</th><td>83828</td><td>2</td><td> 2</td><td>39</td><td>3</td><td> 1.0</td><td>1.000</td><td>0.000</td><td>0.156</td><td>0.000</td><td>...</td><td>NA</td><td>NA</td><td>2</td><td>NA</td><td>NA</td><td>    NA</td><td>2</td><td>NA</td><td>NA</td><td>    NA</td></tr>\n",
              "\t<tr><th scope=row>120</th><td>83851</td><td>2</td><td> 2</td><td>37</td><td>3</td><td> 1.0</td><td>1.000</td><td>0.333</td><td>0.156</td><td>0.156</td><td>...</td><td>NA</td><td>NA</td><td>1</td><td> 1</td><td> 2</td><td> 1.000</td><td>1</td><td> 1</td><td> 2</td><td> 1.000</td></tr>\n",
              "\t<tr><th scope=row>125</th><td>83856</td><td>1</td><td>NA</td><td>30</td><td>3</td><td> 0.5</td><td>1.667</td><td>1.667</td><td>0.000</td><td>0.078</td><td>...</td><td> 1</td><td> 2</td><td>1</td><td> 1</td><td> 2</td><td> 0.333</td><td>1</td><td> 2</td><td>NA</td><td> 1.000</td></tr>\n",
              "</tbody>\n",
              "</table>\n"
            ],
            "text/latex": "A data.frame: 6 × 21\n\\begin{tabular}{r|lllllllllllllllllllll}\n  & SEQN & RIAGENDR & RIDEXPRG & RIDAGEYR & Age\\_cate & DBQ700 & DBD895 & DBD900 & DBD905 & DBD910 & ... & CBQ606 & CBQ611 & CBQ505 & CBQ535 & CBQ540 & CBQ545 & CBQ550 & CBQ580 & CBQ585 & CBQ590\\\\\n  & <int> & <fct> & <int> & <int> & <fct> & <dbl> & <dbl> & <dbl> & <dbl> & <dbl> & ... & <int> & <int> & <fct> & <int> & <int> & <dbl> & <int> & <int> & <int> & <dbl>\\\\\n\\hline\n\t11 & 83742 & 2 &  2 & 32 & 3 & -1.0 & 0.000 &    NA & 0.000 & 0.078 & ... & NA & NA & 1 &  2 & NA & -0.333 & 1 &  2 & NA & -0.333\\\\\n\t21 & 83752 & 2 &  2 & 30 & 3 &  0.0 & 1.333 & 0.000 & 0.000 & 0.000 & ... & NA & NA & 1 &  1 &  2 &  0.333 & 1 &  2 & NA & -0.333\\\\\n\t68 & 83799 & 2 &  2 & 37 & 3 &  0.0 & 0.667 & 0.667 & 0.000 & 0.000 & ... & NA & NA & 1 &  2 & NA &  1.000 & 1 &  2 & NA &  1.000\\\\\n\t97 & 83828 & 2 &  2 & 39 & 3 &  1.0 & 1.000 & 0.000 & 0.156 & 0.000 & ... & NA & NA & 2 & NA & NA &     NA & 2 & NA & NA &     NA\\\\\n\t120 & 83851 & 2 &  2 & 37 & 3 &  1.0 & 1.000 & 0.333 & 0.156 & 0.156 & ... & NA & NA & 1 &  1 &  2 &  1.000 & 1 &  1 &  2 &  1.000\\\\\n\t125 & 83856 & 1 & NA & 30 & 3 &  0.5 & 1.667 & 1.667 & 0.000 & 0.078 & ... &  1 &  2 & 1 &  1 &  2 &  0.333 & 1 &  2 & NA &  1.000\\\\\n\\end{tabular}\n",
            "text/markdown": "\nA data.frame: 6 × 21\n\n| <!--/--> | SEQN &lt;int&gt; | RIAGENDR &lt;fct&gt; | RIDEXPRG &lt;int&gt; | RIDAGEYR &lt;int&gt; | Age_cate &lt;fct&gt; | DBQ700 &lt;dbl&gt; | DBD895 &lt;dbl&gt; | DBD900 &lt;dbl&gt; | DBD905 &lt;dbl&gt; | DBD910 &lt;dbl&gt; | ... ... | CBQ606 &lt;int&gt; | CBQ611 &lt;int&gt; | CBQ505 &lt;fct&gt; | CBQ535 &lt;int&gt; | CBQ540 &lt;int&gt; | CBQ545 &lt;dbl&gt; | CBQ550 &lt;int&gt; | CBQ580 &lt;int&gt; | CBQ585 &lt;int&gt; | CBQ590 &lt;dbl&gt; |\n|---|---|---|---|---|---|---|---|---|---|---|---|---|---|---|---|---|---|---|---|---|---|\n| 11 | 83742 | 2 |  2 | 32 | 3 | -1.0 | 0.000 |    NA | 0.000 | 0.078 | ... | NA | NA | 1 |  2 | NA | -0.333 | 1 |  2 | NA | -0.333 |\n| 21 | 83752 | 2 |  2 | 30 | 3 |  0.0 | 1.333 | 0.000 | 0.000 | 0.000 | ... | NA | NA | 1 |  1 |  2 |  0.333 | 1 |  2 | NA | -0.333 |\n| 68 | 83799 | 2 |  2 | 37 | 3 |  0.0 | 0.667 | 0.667 | 0.000 | 0.000 | ... | NA | NA | 1 |  2 | NA |  1.000 | 1 |  2 | NA |  1.000 |\n| 97 | 83828 | 2 |  2 | 39 | 3 |  1.0 | 1.000 | 0.000 | 0.156 | 0.000 | ... | NA | NA | 2 | NA | NA |     NA | 2 | NA | NA |     NA |\n| 120 | 83851 | 2 |  2 | 37 | 3 |  1.0 | 1.000 | 0.333 | 0.156 | 0.156 | ... | NA | NA | 1 |  1 |  2 |  1.000 | 1 |  1 |  2 |  1.000 |\n| 125 | 83856 | 1 | NA | 30 | 3 |  0.5 | 1.667 | 1.667 | 0.000 | 0.078 | ... |  1 |  2 | 1 |  1 |  2 |  0.333 | 1 |  2 | NA |  1.000 |\n\n",
            "text/plain": [
              "    SEQN  RIAGENDR RIDEXPRG RIDAGEYR Age_cate DBQ700 DBD895 DBD900 DBD905\n",
              "11  83742 2         2       32       3        -1.0   0.000     NA  0.000 \n",
              "21  83752 2         2       30       3         0.0   1.333  0.000  0.000 \n",
              "68  83799 2         2       37       3         0.0   0.667  0.667  0.000 \n",
              "97  83828 2         2       39       3         1.0   1.000  0.000  0.156 \n",
              "120 83851 2         2       37       3         1.0   1.000  0.333  0.156 \n",
              "125 83856 1        NA       30       3         0.5   1.667  1.667  0.000 \n",
              "    DBD910 ... CBQ606 CBQ611 CBQ505 CBQ535 CBQ540 CBQ545 CBQ550 CBQ580 CBQ585\n",
              "11  0.078  ... NA     NA     1       2     NA     -0.333 1       2     NA    \n",
              "21  0.000  ... NA     NA     1       1      2      0.333 1       2     NA    \n",
              "68  0.000  ... NA     NA     1       2     NA      1.000 1       2     NA    \n",
              "97  0.000  ... NA     NA     2      NA     NA         NA 2      NA     NA    \n",
              "120 0.156  ... NA     NA     1       1      2      1.000 1       1      2    \n",
              "125 0.078  ...  1      2     1       1      2      0.333 1       2     NA    \n",
              "    CBQ590\n",
              "11  -0.333\n",
              "21  -0.333\n",
              "68   1.000\n",
              "97      NA\n",
              "120  1.000\n",
              "125  1.000"
            ]
          },
          "metadata": {
            "tags": []
          }
        }
      ]
    },
    {
      "cell_type": "code",
      "metadata": {
        "scrolled": false,
        "id": "wcXhahNl4i19",
        "colab_type": "code",
        "colab": {},
        "outputId": "1db26af1-1bf7-4f4f-da2a-e07332740053"
      },
      "source": [
        "options(repr.plot.width=10, repr.plot.height=5)\n",
        "\n",
        "temp = subset(demo_dbq, !is.na(CBQ505)) #drop main var's na\n",
        "demo_male = subset(temp, temp['RIAGENDR'] == \"1\")\n",
        "demo_female = subset(temp, temp['RIAGENDR'] == \"2\")\n",
        "\n",
        "temp2 = temp\n",
        "\n",
        "demo_age_0 = subset(temp2, temp2['Age_cate'] == \"0\")\n",
        "demo_age_1 = subset(temp2, temp2['Age_cate'] == \"1\")\n",
        "demo_age_2 = subset(temp2, temp2['Age_cate'] == \"2\")\n",
        "demo_age_3 = subset(temp2, temp2['Age_cate'] == \"3\")\n",
        "demo_age_4 = subset(temp2, temp2['Age_cate'] == \"4\")\n",
        "demo_age_5 = subset(temp2, temp2['Age_cate'] == \"5\")\n",
        "demo_age_6 = subset(temp2, temp2['Age_cate'] == \"6\")\n",
        "demo_age_7 = subset(temp2, temp2['Age_cate'] == \"7\")\n",
        "demo_age_8 = subset(temp2, temp2['Age_cate'] == \"8\")\n",
        "\n",
        "p1 <- ggplot(demo_age_1, aes(x= CBQ505, fill = RIAGENDR)) + geom_bar()\n",
        "p2 <- ggplot(demo_age_2, aes(x= CBQ505, fill = RIAGENDR)) + geom_bar()\n",
        "p3 <- ggplot(demo_age_3, aes(x= CBQ505, fill = RIAGENDR)) + geom_bar()\n",
        "p4 <- ggplot(demo_age_4, aes(x= CBQ505, fill = RIAGENDR)) + geom_bar()\n",
        "p5 <- ggplot(demo_age_5, aes(x= CBQ505, fill = RIAGENDR)) + geom_bar()\n",
        "p6 <- ggplot(demo_age_6, aes(x= CBQ505, fill = RIAGENDR)) + geom_bar()\n",
        "p7 <- ggplot(demo_age_7, aes(x= CBQ505, fill = RIAGENDR)) + geom_bar()\n",
        "p8 <- ggplot(demo_age_8, aes(x= CBQ505, fill = RIAGENDR)) + geom_bar()\n",
        "grid.arrange(p1,p2,p3,p4,p5,p6,p7,p8, nrow=2)"
      ],
      "execution_count": null,
      "outputs": [
        {
          "output_type": "display_data",
          "data": {
            "image/png": "[encoded data removed]",
            "text/plain": [
              "plot without title"
            ]
          },
          "metadata": {
            "tags": []
          }
        }
      ]
    },
    {
      "cell_type": "code",
      "metadata": {
        "id": "gXyWehEA4i2A",
        "colab_type": "code",
        "colab": {},
        "outputId": "50df8f3f-8521-459c-d02c-76e092dd165a"
      },
      "source": [
        "#DBQ - CBQ535 / 505기준 yes로 필터링해서 먹었음에도 인식차이\n",
        "options(repr.plot.width=10, repr.plot.height=5)\n",
        "\n",
        "temp = subset(demo_dbq, !is.na(CBQ505)) #drop main var's na\n",
        "temp = subset(temp, temp['CBQ505']== \"1\")\n",
        "demo_male = subset(temp, temp['RIAGENDR'] == \"1\")\n",
        "demo_female = subset(temp, temp['RIAGENDR'] == \"2\")\n",
        "\n",
        "temp2 = temp\n",
        "\n",
        "demo_age_0 = subset(temp2, temp2['Age_cate'] == \"0\")\n",
        "demo_age_1 = subset(temp2, temp2['Age_cate'] == \"1\")\n",
        "demo_age_2 = subset(temp2, temp2['Age_cate'] == \"2\")\n",
        "demo_age_3 = subset(temp2, temp2['Age_cate'] == \"3\")\n",
        "demo_age_4 = subset(temp2, temp2['Age_cate'] == \"4\")\n",
        "demo_age_5 = subset(temp2, temp2['Age_cate'] == \"5\")\n",
        "demo_age_6 = subset(temp2, temp2['Age_cate'] == \"6\")\n",
        "demo_age_7 = subset(temp2, temp2['Age_cate'] == \"7\")\n",
        "demo_age_8 = subset(temp2, temp2['Age_cate'] == \"8\")\n",
        "\n",
        "p1 <- ggplot(demo_age_1, aes(x= CBQ535, fill = RIAGENDR)) + geom_bar()\n",
        "p2 <- ggplot(demo_age_2, aes(x= CBQ535, fill = RIAGENDR)) + geom_bar()\n",
        "p3 <- ggplot(demo_age_3, aes(x= CBQ535, fill = RIAGENDR)) + geom_bar()\n",
        "p4 <- ggplot(demo_age_4, aes(x= CBQ535, fill = RIAGENDR)) + geom_bar()\n",
        "p5 <- ggplot(demo_age_5, aes(x= CBQ535, fill = RIAGENDR)) + geom_bar()\n",
        "p6 <- ggplot(demo_age_6, aes(x= CBQ535, fill = RIAGENDR)) + geom_bar()\n",
        "p7 <- ggplot(demo_age_7, aes(x= CBQ535, fill = RIAGENDR)) + geom_bar()\n",
        "p8 <- ggplot(demo_age_8, aes(x= CBQ535, fill = RIAGENDR)) + geom_bar()\n",
        "grid.arrange(p1,p2,p3,p4,p5,p6,p7,p8, nrow=2)"
      ],
      "execution_count": null,
      "outputs": [
        {
          "output_type": "display_data",
          "data": {
            "image/png": "[encoded data removed]",
            "text/plain": [
              "plot without title"
            ]
          },
          "metadata": {
            "tags": []
          }
        }
      ]
    },
    {
      "cell_type": "code",
      "metadata": {
        "scrolled": true,
        "id": "5E046_EA4i2C",
        "colab_type": "code",
        "colab": {},
        "outputId": "a48c09bc-f2f3-46b2-cfba-9f81e18ec4e9"
      },
      "source": [
        "#DBQ - CBQ545 / 540기준 yes로 필터링해서 먹었음에도 인식차이\n",
        "#CBQ 545 likert로 되어있는데 왜 num이지\n",
        "options(repr.plot.width=8, repr.plot.height=4)\n",
        "\n",
        "temp = subset(demo_dbq, !is.na(CBQ505)) #drop main var's na\n",
        "temp = subset(temp, temp['CBQ540']== \"1\")\n",
        "\n",
        "names <- c('RIAGENDR' ,'Age_cate', 'CBQ505', 'CBQ535', 'CBQ540', 'CBQ545')\n",
        "temp[,names] <- lapply(temp[,names] , factor)\n",
        "\n",
        "demo_male = subset(temp, temp['RIAGENDR'] == \"1\")\n",
        "demo_female = subset(temp, temp['RIAGENDR'] == \"2\")\n",
        "\n",
        "temp2 = temp\n",
        "\n",
        "demo_age_0 = subset(temp2, temp2['Age_cate'] == \"0\")\n",
        "demo_age_1 = subset(temp2, temp2['Age_cate'] == \"1\")\n",
        "demo_age_2 = subset(temp2, temp2['Age_cate'] == \"2\")\n",
        "demo_age_3 = subset(temp2, temp2['Age_cate'] == \"3\")\n",
        "demo_age_4 = subset(temp2, temp2['Age_cate'] == \"4\")\n",
        "demo_age_5 = subset(temp2, temp2['Age_cate'] == \"5\")\n",
        "demo_age_6 = subset(temp2, temp2['Age_cate'] == \"6\")\n",
        "demo_age_7 = subset(temp2, temp2['Age_cate'] == \"7\")\n",
        "demo_age_8 = subset(temp2, temp2['Age_cate'] == \"8\")\n",
        "\n",
        "p1 <- ggplot(demo_age_1, aes(x= CBQ545, fill = RIAGENDR)) + geom_bar(show.legend=FALSE)\n",
        "p2 <- ggplot(demo_age_2, aes(x= CBQ545, fill = RIAGENDR)) + geom_bar(show.legend=FALSE)\n",
        "p3 <- ggplot(demo_age_3, aes(x= CBQ545, fill = RIAGENDR)) + geom_bar(show.legend=FALSE)\n",
        "p4 <- ggplot(demo_age_4, aes(x= CBQ545, fill = RIAGENDR)) + geom_bar(show.legend=FALSE)\n",
        "p5 <- ggplot(demo_age_5, aes(x= CBQ545, fill = RIAGENDR)) + geom_bar(show.legend=FALSE)\n",
        "p6 <- ggplot(demo_age_6, aes(x= CBQ545, fill = RIAGENDR)) + geom_bar(show.legend=FALSE)\n",
        "p7 <- ggplot(demo_age_7, aes(x= CBQ545, fill = RIAGENDR)) + geom_bar(show.legend=FALSE)\n",
        "p8 <- ggplot(demo_age_8, aes(x= CBQ545, fill = RIAGENDR)) + geom_bar(show.legend=FALSE)\n",
        "\n",
        "grid.arrange(p1,p2,p3,p4,p5,p6,p7,p8, nrow=2)"
      ],
      "execution_count": null,
      "outputs": [
        {
          "output_type": "display_data",
          "data": {
            "image/png": "[encoded data removed]",
            "text/plain": [
              "plot without title"
            ]
          },
          "metadata": {
            "tags": []
          }
        }
      ]
    },
    {
      "cell_type": "code",
      "metadata": {
        "id": "5mSfQoBG4i2E",
        "colab_type": "code",
        "colab": {},
        "outputId": "00bd10dd-2e7a-47c7-ab33-071965a704ff"
      },
      "source": [
        "str(demo_dbq)"
      ],
      "execution_count": null,
      "outputs": [
        {
          "output_type": "stream",
          "text": [
            "'data.frame':\t9971 obs. of  21 variables:\n",
            " $ SEQN    : int  83732 83733 83734 83735 83736 83737 83738 83739 83740 83741 ...\n",
            " $ RIAGENDR: Factor w/ 2 levels \"1\",\"2\": 1 1 1 2 2 2 2 1 1 1 ...\n",
            " $ RIDEXPRG: int  NA NA NA NA 1 NA NA NA NA NA ...\n",
            " $ RIDAGEYR: int  62 53 78 56 42 72 11 4 1 22 ...\n",
            " $ Age_cate: Factor w/ 9 levels \"0\",\"1\",\"2\",\"3\",..: 7 6 8 6 5 8 2 1 1 3 ...\n",
            " $ DBQ700  : num  0 -1 0.5 0.5 1 0 NA NA NA 0 ...\n",
            " $ DBD895  : num  0.333 0 1.333 1 1 ...\n",
            " $ DBD900  : num  0 NA 1.333 0.333 0.333 ...\n",
            " $ DBD905  : num  0.156 0 0 0.856 0.233 0 0 0.078 0 0 ...\n",
            " $ DBD910  : num  0 0 0 1.167 0.078 ...\n",
            " $ CBQ596  : int  2 2 2 2 1 2 NA NA NA 2 ...\n",
            " $ CBQ606  : int  NA NA NA NA 2 NA NA NA NA NA ...\n",
            " $ CBQ611  : int  NA NA NA NA 1 NA NA NA NA NA ...\n",
            " $ CBQ505  : Factor w/ 3 levels \"1\",\"2\",\"9\": 1 2 1 1 1 2 NA NA NA 1 ...\n",
            " $ CBQ535  : Factor w/ 3 levels \"1\",\"2\",\"9\": 2 NA 2 1 1 NA NA NA NA 2 ...\n",
            " $ CBQ540  : Factor w/ 2 levels \"1\",\"2\": NA NA NA 1 2 NA NA NA NA NA ...\n",
            " $ CBQ545  : Factor w/ 5 levels \"-1\",\"-0.333\",..: 1 NA 4 1 2 NA NA NA NA 1 ...\n",
            " $ CBQ550  : int  1 1 1 1 1 1 NA NA NA 2 ...\n",
            " $ CBQ580  : int  2 2 2 2 1 2 NA NA NA NA ...\n",
            " $ CBQ585  : int  NA NA NA NA 2 NA NA NA NA NA ...\n",
            " $ CBQ590  : num  -0.333 1 1 -1 1 -1 NA NA NA NA ...\n"
          ],
          "name": "stdout"
        }
      ]
    },
    {
      "cell_type": "code",
      "metadata": {
        "id": "FOgzLTDf4i2G",
        "colab_type": "code",
        "colab": {}
      },
      "source": [
        "temp = subset(demo_dbq, !is.na(CBQ505)) #drop main var's na\n",
        "temp = subset(temp, !is.na(CBQ550))\n",
        "\n",
        "names <- c('RIAGENDR' ,'Age_cate', \n",
        "           'DBQ700', 'CBQ596', 'CBQ606', 'CBQ611',\n",
        "           'CBQ505', 'CBQ535', 'CBQ540', 'CBQ545', 'CBQ550', 'CBQ585')\n",
        "temp[,names] <- lapply(temp[,names] , factor)"
      ],
      "execution_count": null,
      "outputs": []
    },
    {
      "cell_type": "code",
      "metadata": {
        "id": "bwW2qfAz4i2I",
        "colab_type": "code",
        "colab": {}
      },
      "source": [
        "#DBQ -  Confusion matrix - 패스트푸드/레스토랑, 영양 확인/안확인\n",
        "options(repr.plot.width=8, repr.plot.height=4)\n",
        "\n",
        "temp = subset(temp, temp['CBQ505']== \"1\")\n",
        "temp = subset(temp, temp['CBQ550']== \"1\")\n",
        "\n",
        "demo_male = subset(temp, temp['RIAGENDR'] == \"1\")\n",
        "demo_female = subset(temp, temp['RIAGENDR'] == \"2\")"
      ],
      "execution_count": null,
      "outputs": []
    },
    {
      "cell_type": "code",
      "metadata": {
        "id": "pZFMkuAy4i2L",
        "colab_type": "code",
        "colab": {},
        "outputId": "9a5a4216-2749-4a83-923e-141665fa58a6"
      },
      "source": [
        "temp %>% group_by(CBQ540) %>% filter(CBQ580 ==\"2\") %>% summarise(counted = n())"
      ],
      "execution_count": null,
      "outputs": [
        {
          "output_type": "stream",
          "text": [
            "Warning message:\n",
            "\"Factor `CBQ540` contains implicit NA, consider using `forcats::fct_explicit_na`\""
          ],
          "name": "stderr"
        },
        {
          "output_type": "display_data",
          "data": {
            "text/html": [
              "<table>\n",
              "<caption>A tibble: 3 × 2</caption>\n",
              "<thead>\n",
              "\t<tr><th scope=col>CBQ540</th><th scope=col>counted</th></tr>\n",
              "\t<tr><th scope=col>&lt;fct&gt;</th><th scope=col>&lt;int&gt;</th></tr>\n",
              "</thead>\n",
              "<tbody>\n",
              "\t<tr><td>1 </td><td> 358</td></tr>\n",
              "\t<tr><td>2 </td><td> 609</td></tr>\n",
              "\t<tr><td>NA</td><td>2405</td></tr>\n",
              "</tbody>\n",
              "</table>\n"
            ],
            "text/latex": "A tibble: 3 × 2\n\\begin{tabular}{ll}\n CBQ540 & counted\\\\\n <fct> & <int>\\\\\n\\hline\n\t 1  &  358\\\\\n\t 2  &  609\\\\\n\t NA & 2405\\\\\n\\end{tabular}\n",
            "text/markdown": "\nA tibble: 3 × 2\n\n| CBQ540 &lt;fct&gt; | counted &lt;int&gt; |\n|---|---|\n| 1  |  358 |\n| 2  |  609 |\n| NA | 2405 |\n\n",
            "text/plain": [
              "  CBQ540 counted\n",
              "1 1       358   \n",
              "2 2       609   \n",
              "3 NA     2405   "
            ]
          },
          "metadata": {
            "tags": []
          }
        }
      ]
    },
    {
      "cell_type": "code",
      "metadata": {
        "id": "cojBhqU54i2O",
        "colab_type": "code",
        "colab": {}
      },
      "source": [
        "#DBQ - CBQ606, 611 My plate를 쓰는 사람이 영양정보를 더 확인할까?\n",
        "options(repr.plot.width=8, repr.plot.height=4)\n",
        "\n",
        "temp = subset(temp, temp['CBQ611']== \"1\")\n",
        "temp = subset(temp, temp['CBQ505']== \"1\")\n",
        "temp = subset(temp, temp['CBQ550']== \"1\")\n",
        "\n",
        "demo_male = subset(temp, temp['RIAGENDR'] == \"1\")\n",
        "demo_female = subset(temp, temp['RIAGENDR'] == \"2\")"
      ],
      "execution_count": null,
      "outputs": []
    },
    {
      "cell_type": "code",
      "metadata": {
        "id": "Qf2nRtiY4i2Q",
        "colab_type": "code",
        "colab": {},
        "outputId": "779b2c19-7e6f-4185-e04d-361c094c963c"
      },
      "source": [
        "temp %>% group_by(CBQ540) %>% filter(CBQ580 ==\"2\") %>% summarise(counted = n())"
      ],
      "execution_count": null,
      "outputs": [
        {
          "output_type": "stream",
          "text": [
            "Warning message:\n",
            "\"Factor `CBQ540` contains implicit NA, consider using `forcats::fct_explicit_na`\""
          ],
          "name": "stderr"
        },
        {
          "output_type": "display_data",
          "data": {
            "text/html": [
              "<table>\n",
              "<caption>A tibble: 3 × 2</caption>\n",
              "<thead>\n",
              "\t<tr><th scope=col>CBQ540</th><th scope=col>counted</th></tr>\n",
              "\t<tr><th scope=col>&lt;fct&gt;</th><th scope=col>&lt;int&gt;</th></tr>\n",
              "</thead>\n",
              "<tbody>\n",
              "\t<tr><td>1 </td><td> 63</td></tr>\n",
              "\t<tr><td>2 </td><td> 35</td></tr>\n",
              "\t<tr><td>NA</td><td>129</td></tr>\n",
              "</tbody>\n",
              "</table>\n"
            ],
            "text/latex": "A tibble: 3 × 2\n\\begin{tabular}{ll}\n CBQ540 & counted\\\\\n <fct> & <int>\\\\\n\\hline\n\t 1  &  63\\\\\n\t 2  &  35\\\\\n\t NA & 129\\\\\n\\end{tabular}\n",
            "text/markdown": "\nA tibble: 3 × 2\n\n| CBQ540 &lt;fct&gt; | counted &lt;int&gt; |\n|---|---|\n| 1  |  63 |\n| 2  |  35 |\n| NA | 129 |\n\n",
            "text/plain": [
              "  CBQ540 counted\n",
              "1 1       63    \n",
              "2 2       35    \n",
              "3 NA     129    "
            ]
          },
          "metadata": {
            "tags": []
          }
        }
      ]
    },
    {
      "cell_type": "code",
      "metadata": {
        "id": "2dukj3TN4i2S",
        "colab_type": "code",
        "colab": {}
      },
      "source": [
        "#DBQ - CBQ606, 611 영양정보를 확인하면 외식을 덜할까?"
      ],
      "execution_count": null,
      "outputs": []
    },
    {
      "cell_type": "code",
      "metadata": {
        "id": "8pIhTb7d4i2U",
        "colab_type": "code",
        "colab": {}
      },
      "source": [
        "#주관적 식습관과 외식 횟수의 상관 - 없다"
      ],
      "execution_count": null,
      "outputs": []
    },
    {
      "cell_type": "code",
      "metadata": {
        "id": "BrJf9NDf4i2X",
        "colab_type": "code",
        "colab": {}
      },
      "source": [
        "# DBD895 - Not home prep DBD900 - fastfood DBD905 RtE food DBD910 _ frozen DBQ700"
      ],
      "execution_count": null,
      "outputs": []
    },
    {
      "cell_type": "code",
      "metadata": {
        "collapsed": true,
        "id": "zmyl1dpI4i2Y",
        "colab_type": "code",
        "colab": {},
        "outputId": "763b9536-c44b-43ad-ac9c-46fad452ab24"
      },
      "source": [
        "str(demo_dbq)"
      ],
      "execution_count": null,
      "outputs": [
        {
          "output_type": "stream",
          "text": [
            "'data.frame':\t9971 obs. of  21 variables:\n",
            " $ SEQN    : int  83732 83733 83734 83735 83736 83737 83738 83739 83740 83741 ...\n",
            " $ RIAGENDR: Factor w/ 2 levels \"1\",\"2\": 1 1 1 2 2 2 2 1 1 1 ...\n",
            " $ RIDEXPRG: int  NA NA NA NA 1 NA NA NA NA NA ...\n",
            " $ RIDAGEYR: int  62 53 78 56 42 72 11 4 1 22 ...\n",
            " $ Age_cate: Factor w/ 9 levels \"0\",\"1\",\"2\",\"3\",..: 7 6 8 6 5 8 2 1 1 3 ...\n",
            " $ DBQ700  : num  0 -1 0.5 0.5 1 0 NA NA NA 0 ...\n",
            " $ DBD895  : num  0.333 0 1.333 1 1 ...\n",
            " $ DBD900  : num  0 NA 1.333 0.333 0.333 ...\n",
            " $ DBD905  : num  0.156 0 0 0.856 0.233 0 0 0.078 0 0 ...\n",
            " $ DBD910  : num  0 0 0 1.167 0.078 ...\n",
            " $ CBQ596  : int  2 2 2 2 1 2 NA NA NA 2 ...\n",
            " $ CBQ606  : int  NA NA NA NA 2 NA NA NA NA NA ...\n",
            " $ CBQ611  : int  NA NA NA NA 1 NA NA NA NA NA ...\n",
            " $ CBQ505  : Factor w/ 3 levels \"1\",\"2\",\"9\": 1 2 1 1 1 2 NA NA NA 1 ...\n",
            " $ CBQ535  : Factor w/ 3 levels \"1\",\"2\",\"9\": 2 NA 2 1 1 NA NA NA NA 2 ...\n",
            " $ CBQ540  : Factor w/ 2 levels \"1\",\"2\": NA NA NA 1 2 NA NA NA NA NA ...\n",
            " $ CBQ545  : Factor w/ 5 levels \"-1\",\"-0.333\",..: 1 NA 4 1 2 NA NA NA NA 1 ...\n",
            " $ CBQ550  : int  1 1 1 1 1 1 NA NA NA 2 ...\n",
            " $ CBQ580  : int  2 2 2 2 1 2 NA NA NA NA ...\n",
            " $ CBQ585  : int  NA NA NA NA 2 NA NA NA NA NA ...\n",
            " $ CBQ590  : num  -0.333 1 1 -1 1 -1 NA NA NA NA ...\n"
          ],
          "name": "stdout"
        }
      ]
    },
    {
      "cell_type": "code",
      "metadata": {
        "id": "CQLUObP54i2b",
        "colab_type": "code",
        "colab": {}
      },
      "source": [
        "names <- c('RIAGENDR','Age_cate','DBQ700','DBD895','DBD900','DBD905','DBD910')\n",
        "temp <- subset(demo_dbq, select = names)\n",
        "temp_male <- subset(temp, temp['RIAGENDR']=='1')\n",
        "temp_male <- subset(temp_male, select = -c(RIAGENDR,Age_cate))\n",
        "temp_female <- subset(temp, temp['RIAGENDR']=='2')\n",
        "temp_female <- subset(temp_female, select = -c(RIAGENDR,Age_cate))\n",
        "\n",
        "temp_male <- na.omit(temp_male)\n",
        "temp_female <- na.omit(temp_female)\n",
        "temp <- subset(temp, select = -c(RIAGENDR,Age_cate))\n",
        "temp <- na.omit(temp)"
      ],
      "execution_count": null,
      "outputs": []
    },
    {
      "cell_type": "code",
      "metadata": {
        "collapsed": true,
        "id": "imf-tC484i2c",
        "colab_type": "code",
        "colab": {},
        "outputId": "fb2bcae0-85a5-47d7-ef53-1a91ccad78b2"
      },
      "source": [
        "x <- temp\n",
        "corr <- round(cor(x), 1)\n",
        "p.mat <- cor_pmat(x)\n",
        "\n",
        "ggcorrplot(corr, hc.order = TRUE,\n",
        "    type = \"lower\", p.mat = p.mat, lab=TRUE)"
      ],
      "execution_count": null,
      "outputs": [
        {
          "output_type": "display_data",
          "data": {
            "image/png": "[encoded data removed]",
            "text/plain": [
              "plot without title"
            ]
          },
          "metadata": {
            "tags": []
          }
        }
      ]
    },
    {
      "cell_type": "code",
      "metadata": {
        "scrolled": true,
        "id": "90IB1UvW4i2e",
        "colab_type": "code",
        "colab": {},
        "outputId": "a090cae9-ff90-406f-fba2-68db18bb80ad"
      },
      "source": [
        "str(temp)"
      ],
      "execution_count": null,
      "outputs": [
        {
          "output_type": "stream",
          "text": [
            "'data.frame':\t5735 obs. of  16 variables:\n",
            " $ SEQN    : int  83732 83733 83734 83735 83736 83737 83741 83742 83743 83744 ...\n",
            " $ RIAGENDR: int  1 1 1 2 2 2 1 2 1 1 ...\n",
            " $ RIDEXPRG: int  NA NA NA NA 1 NA NA 2 NA NA ...\n",
            " $ RIDAGEYR: int  62 53 78 56 42 72 22 32 18 56 ...\n",
            " $ Age_cate: int  6 5 7 5 4 7 2 3 1 5 ...\n",
            " $ DPQ010  : num  0.333 0.333 0.333 0.333 0.333 0.333 0.333 0.333 NA 0.333 ...\n",
            " $ DPQ020  : num  0.333 0.333 0.333 0.333 0.333 0.333 0.333 0.333 NA 0.333 ...\n",
            " $ DPQ030  : num  0.333 0.333 0.333 -0.333 0.333 0.333 0.333 0.333 NA 0.333 ...\n",
            " $ DPQ040  : num  0.333 0.333 0.333 -0.333 0.333 0.333 0.333 0.333 NA 0.333 ...\n",
            " $ DPQ050  : num  0.333 0.333 0.333 0.333 -1 0.333 0.333 0.333 NA 0.333 ...\n",
            " $ DPQ060  : num  0.333 0.333 0.333 -1 0.333 0.333 0.333 0.333 NA 0.333 ...\n",
            " $ DPQ070  : num  0.333 0.333 0.333 -0.333 0.333 0.333 0.333 0.333 NA 0.333 ...\n",
            " $ DPQ080  : num  0.333 0.333 0.333 0.333 0.333 0.333 0.333 0.333 NA 0.333 ...\n",
            " $ DPQ090  : num  0.333 0.333 0.333 0.333 0.333 0.333 0.333 0.333 NA 0.333 ...\n",
            " $ DPQ100  : num  0.333 0.333 0.333 0.333 0.333 NA 0.333 0.333 NA NA ...\n",
            " $ total   : num  0.333 0.333 0.333 0 0.2 0.3 0.333 0.333 0 0.3 ...\n"
          ],
          "name": "stdout"
        }
      ]
    },
    {
      "cell_type": "code",
      "metadata": {
        "scrolled": false,
        "id": "7vXXsQKg4i2g",
        "colab_type": "code",
        "colab": {},
        "outputId": "db7cae45-be73-439c-a780-4a2eb9499762"
      },
      "source": [
        "#DPQ 총합해서 어느군이 가장 우울한지\n",
        "options(repr.plot.width=4, repr.plot.height=4)\n",
        "\n",
        "names <- c('RIAGENDR','Age_cate')\n",
        "temp[,names] <- lapply(temp[,names] , factor)\n",
        "\n",
        "temp = subset(temp, !is.na(total)) #drop main var's na\n",
        "\n",
        "p <- ggplot(temp, aes(x = Age_cate, y= total, fill= RIAGENDR)) + \n",
        "geom_boxplot(outlier.shape = NA) +\n",
        "labs(x=\"Gender\", y=\"DPQ\") + scale_y_continuous(limits = quantile(temp$total, c(0.1, 0.9)))\n",
        "\n",
        "p"
      ],
      "execution_count": null,
      "outputs": [
        {
          "output_type": "stream",
          "text": [
            "Warning message:\n",
            "\"Removed 315 rows containing non-finite values (stat_boxplot).\""
          ],
          "name": "stderr"
        },
        {
          "output_type": "display_data",
          "data": {
            "image/png": "[encoded data removed]",
            "text/plain": [
              "plot without title"
            ]
          },
          "metadata": {
            "tags": []
          }
        }
      ]
    },
    {
      "cell_type": "code",
      "metadata": {
        "id": "dLkBmTFi4i2i",
        "colab_type": "code",
        "colab": {}
      },
      "source": [
        "#DPQ 어느군이 어떤 질문에서 가장 높은지"
      ],
      "execution_count": null,
      "outputs": []
    },
    {
      "cell_type": "code",
      "metadata": {
        "id": "nddW9r7Y4i2k",
        "colab_type": "code",
        "colab": {}
      },
      "source": [
        "#SLQ - SLQ 300, 310 그룹간 기상시간 비교"
      ],
      "execution_count": null,
      "outputs": []
    },
    {
      "cell_type": "code",
      "metadata": {
        "id": "OFxfRYgW4i2o",
        "colab_type": "code",
        "colab": {}
      },
      "source": [
        "#SLQ SLD012 그룹별 평균 수면시간"
      ],
      "execution_count": null,
      "outputs": []
    },
    {
      "cell_type": "code",
      "metadata": {
        "id": "P-qZod9m4i2s",
        "colab_type": "code",
        "colab": {}
      },
      "source": [
        "#SLQ SLQ 030, 040, 050 그룹별 수면 문제"
      ],
      "execution_count": null,
      "outputs": []
    },
    {
      "cell_type": "code",
      "metadata": {
        "id": "TTIBp5dk4i2u",
        "colab_type": "code",
        "colab": {}
      },
      "source": [
        "#SLQ SLQ120 - 수면시간, 수면 문제와 비교해서 상관관계"
      ],
      "execution_count": null,
      "outputs": []
    },
    {
      "cell_type": "code",
      "metadata": {
        "id": "O_icoifx4i2x",
        "colab_type": "code",
        "colab": {}
      },
      "source": [
        "#PAQ PAQ610, 615 직장에서 얼마나 격렬한 운동을 하는가"
      ],
      "execution_count": null,
      "outputs": []
    },
    {
      "cell_type": "code",
      "metadata": {
        "id": "Fi0NFWaZ4i2z",
        "colab_type": "code",
        "colab": {}
      },
      "source": [
        "#PAQ PAQ635 640 645 출퇴근 중에 운동"
      ],
      "execution_count": null,
      "outputs": []
    },
    {
      "cell_type": "code",
      "metadata": {
        "id": "dx1QLuZQ4i23",
        "colab_type": "code",
        "colab": {}
      },
      "source": [
        "#PAQ PAQ650 655 660 개인 취미운동(격렬함)"
      ],
      "execution_count": null,
      "outputs": []
    },
    {
      "cell_type": "code",
      "metadata": {
        "id": "AbX36Slc4i25",
        "colab_type": "code",
        "colab": {}
      },
      "source": [
        "#PAQ PAQ665 670 PAD675 개인 취미운동(적당함)"
      ],
      "execution_count": null,
      "outputs": []
    },
    {
      "cell_type": "code",
      "metadata": {
        "id": "XVnZRK8e4i29",
        "colab_type": "code",
        "colab": {}
      },
      "source": [
        "#PAQ PAD680 PAQ710 앉아있는 시간, 며칠정도 앉아있나, "
      ],
      "execution_count": null,
      "outputs": []
    },
    {
      "cell_type": "code",
      "metadata": {
        "id": "DXezOw2j4i3B",
        "colab_type": "code",
        "colab": {}
      },
      "source": [
        "#WHQ 030, 040 살빼려는 의지와 값과 DBQ700 주관적 식습관 인식 비교"
      ],
      "execution_count": null,
      "outputs": []
    },
    {
      "cell_type": "code",
      "metadata": {
        "id": "GYFmTsRh4i3D",
        "colab_type": "code",
        "colab": {}
      },
      "source": [
        "#WHQ 030, 040 살빼려는 의지와 값과 PAQ 655 660 격렬한 운동,  PAQ665 670 PAD675 적당한 운동 비교"
      ],
      "execution_count": null,
      "outputs": []
    },
    {
      "cell_type": "code",
      "metadata": {
        "id": "yLw_tFtP4i3F",
        "colab_type": "code",
        "colab": {}
      },
      "source": [
        "#WHD080 A~U까지 어떤 유형인지 비교해서 각 그룹별로 어떤 유형이 가장 많은지 비교"
      ],
      "execution_count": null,
      "outputs": []
    },
    {
      "cell_type": "code",
      "metadata": {
        "id": "2g0-FtPY4i3H",
        "colab_type": "code",
        "colab": {}
      },
      "source": [
        ""
      ],
      "execution_count": null,
      "outputs": []
    },
    {
      "cell_type": "code",
      "metadata": {
        "id": "qpq3jlge4i3I",
        "colab_type": "code",
        "colab": {}
      },
      "source": [
        ""
      ],
      "execution_count": null,
      "outputs": []
    },
    {
      "cell_type": "code",
      "metadata": {
        "id": "mrzxmu5e4i3L",
        "colab_type": "code",
        "colab": {}
      },
      "source": [
        ""
      ],
      "execution_count": null,
      "outputs": []
    },
    {
      "cell_type": "code",
      "metadata": {
        "id": "hJV03YLR4i3N",
        "colab_type": "code",
        "colab": {}
      },
      "source": [
        ""
      ],
      "execution_count": null,
      "outputs": []
    },
    {
      "cell_type": "code",
      "metadata": {
        "id": "rCn4EL9Z4i3R",
        "colab_type": "code",
        "colab": {}
      },
      "source": [
        ""
      ],
      "execution_count": null,
      "outputs": []
    }
  ]
}